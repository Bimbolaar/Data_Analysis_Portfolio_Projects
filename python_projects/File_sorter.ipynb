{
 "cells": [
  {
   "cell_type": "markdown",
   "id": "ca0c935d-787f-44da-9702-1ba9edba2b99",
   "metadata": {},
   "source": [
    "# Automatic File Sorter in File Explorer"
   ]
  },
  {
   "cell_type": "code",
   "execution_count": 1,
   "id": "b6ed419e-639e-4a5d-8aac-0c64753b1c15",
   "metadata": {},
   "outputs": [],
   "source": [
    "import os, shutil"
   ]
  },
  {
   "cell_type": "code",
   "execution_count": 3,
   "id": "12979b10-439b-4cc1-99c5-714c6e2e267c",
   "metadata": {},
   "outputs": [],
   "source": [
    "path = 'C:/Users/Abimbola/OneDrive/Desktop/bim_data_analyst/mysql/portfolio_projects/climate_land_cover/'"
   ]
  },
  {
   "cell_type": "code",
   "execution_count": 26,
   "id": "834ae62e-b046-4610-906e-c5c864792256",
   "metadata": {},
   "outputs": [
    {
     "data": {
      "text/plain": [
       "['Artificial_surfaces_percent_change6.csv',\n",
       " 'Artificial_surfaces_percent_change7.csv',\n",
       " 'Climate influence.xml',\n",
       " 'Climate_altering_land_cover_index1.csv',\n",
       " 'Climate_data_land_cover.sql',\n",
       " 'Climate_influence2.csv',\n",
       " 'Climate_influence_indicators3.csv',\n",
       " 'Climate_influence_percent_change4.csv',\n",
       " 'Climate_regulating_influence_percent_change5.csv',\n",
       " 'global_land_cover_area.csv',\n",
       " 'Land_Cover_Accounts.csv',\n",
       " 'Readme.md']"
      ]
     },
     "execution_count": 26,
     "metadata": {},
     "output_type": "execute_result"
    }
   ],
   "source": [
    "os.listdir(path)"
   ]
  },
  {
   "cell_type": "code",
   "execution_count": 8,
   "id": "bbcdf33f-55d0-4956-9178-096d47701938",
   "metadata": {},
   "outputs": [
    {
     "data": {
      "text/plain": [
       "True"
      ]
     },
     "execution_count": 8,
     "metadata": {},
     "output_type": "execute_result"
    }
   ],
   "source": [
    "os.path.exists(path)"
   ]
  },
  {
   "cell_type": "code",
   "execution_count": 10,
   "id": "4d3b0cc1-89f0-4d85-8f4c-9b674f5a247e",
   "metadata": {},
   "outputs": [],
   "source": [
    "file_name = os.listdir(path)"
   ]
  },
  {
   "cell_type": "code",
   "execution_count": 28,
   "id": "32fdf8ae-5dbc-44e3-932f-51bd4b92e51a",
   "metadata": {},
   "outputs": [],
   "source": [
    "folder_name = ['csv_files', 'sql_files', 'xml_files', 'text_files']\n",
    "\n",
    "for loop in range(0,4):\n",
    "    if not os.path.exists(path + folder_name[loop]):\n",
    "        os.makedirs(path + folder_name[loop])\n",
    "\n",
    "for file in file_name:\n",
    "    if '.csv' in file and not os.path.exists(path + \"csv_files/\" + file):\n",
    "        shutil.move(path + file, path + \"csv_files/\" + file)\n",
    "    elif '.sql' in file and not os.path.exists(path + \"sql_files/\" + file):\n",
    "        shutil.move(path + file, path + \"sql_files/\" + file)\n",
    "    elif '.xml' in file and not os.path.exists(path + \"xml_files/\" + file):\n",
    "        shutil.move(path + file, path + \"xml_files/\" + file)\n",
    "    elif '.md' in file and not os.path.exists(path + \"text_files/\" + file):\n",
    "        shutil.move(path + file, path + \"text_files/\" + file)\n",
    "                                                               \n",
    "    "
   ]
  },
  {
   "cell_type": "code",
   "execution_count": 5,
   "id": "a4fa4a70-644d-491b-9dae-505329003a26",
   "metadata": {},
   "outputs": [
    {
     "data": {
      "text/plain": [
       "['csv_files', 'sql_files', 'text_files', 'xml_files']"
      ]
     },
     "execution_count": 5,
     "metadata": {},
     "output_type": "execute_result"
    }
   ],
   "source": [
    "os.listdir(path)"
   ]
  },
  {
   "cell_type": "code",
   "execution_count": null,
   "id": "6d7f211e-a8e0-4b3f-8175-1e72fe556afa",
   "metadata": {},
   "outputs": [],
   "source": []
  }
 ],
 "metadata": {
  "kernelspec": {
   "display_name": "Python 3 (ipykernel)",
   "language": "python",
   "name": "python3"
  },
  "language_info": {
   "codemirror_mode": {
    "name": "ipython",
    "version": 3
   },
   "file_extension": ".py",
   "mimetype": "text/x-python",
   "name": "python",
   "nbconvert_exporter": "python",
   "pygments_lexer": "ipython3",
   "version": "3.12.4"
  }
 },
 "nbformat": 4,
 "nbformat_minor": 5
}
