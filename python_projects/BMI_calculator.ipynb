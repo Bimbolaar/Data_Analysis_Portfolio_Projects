{
 "cells": [
  {
   "cell_type": "markdown",
   "id": "394daba6-64f8-4a0c-80a6-7c3009185688",
   "metadata": {},
   "source": [
    "# BMI Calculator"
   ]
  },
  {
   "cell_type": "code",
   "execution_count": 3,
   "id": "764819ef-3912-4fe2-a945-021342161f89",
   "metadata": {},
   "outputs": [],
   "source": [
    "import tkinter as tk\n",
    "from tkinter import messagebox"
   ]
  },
  {
   "cell_type": "code",
   "execution_count": 7,
   "id": "9757ae56-1103-4386-948e-30ae2412c23a",
   "metadata": {},
   "outputs": [],
   "source": [
    "def calculate_bmi():\n",
    "    try:\n",
    "        name = name_entry.get()\n",
    "        weight = float(weight_entry.get())\n",
    "        height = float(height_entry.get())\n",
    "        \n",
    "        BMI = (weight * 703) / (height * height)\n",
    "        BMI = (round(BMI,2))\n",
    "        \n",
    "        result_label.config(text = f\"{name}, your BMI is {BMI}\")\n",
    "        \n",
    "        if BMI < 18.5:\n",
    "            messagebox.showinfo(\"Result\", f\"{name}, you are underweight.\")\n",
    "        elif BMI <= 24.9:\n",
    "            messagebox.showinfo(\"Result\", f\"{name}, you are normal weight.\")\n",
    "        elif BMI <= 29.9:\n",
    "            messagebox.showinfo(\"Result\",f\"{name}, you are overweight.\")\n",
    "        elif BMI <= 34.9:\n",
    "            messagebox.showinfo(\"Result\", f\"{name}, you are obese.\")\n",
    "        elif BMI <= 39.9:\n",
    "            messagebox.showinfo(\"Result\", f\"{name}, you are severely obese.\")\n",
    "        else:\n",
    "            messagebox.showinfo(\"Result\", f\"{name}, you are morbidly obese.\")\n",
    "    except ValueError:\n",
    "        message.showerror(\"Error\", \"Please enter valid input.\")\n",
    "        \n",
    " # Creating the main window\n",
    "root = tk.Tk()\n",
    "root.title(\"BMI Calculator\")\n",
    "\n",
    "# Labels and Entry widgets\n",
    "tk.Label(root, text=\"Name:\").grid(row=0, column=0, padx=10, pady=5)\n",
    "name_entry = tk.Entry(root)\n",
    "name_entry.grid(row=0, column=1, padx=10, pady=5)\n",
    "\n",
    "tk.Label(root, text=\"Weight (in pounds):\").grid(row=1, column=0, padx=10, pady=5)\n",
    "weight_entry = tk.Entry(root)\n",
    "weight_entry.grid(row=1, column=1, padx=10, pady=5)\n",
    "\n",
    "tk.Label(root, text=\"Height (in inches):\").grid(row=2, column=0, padx=10, pady=5)\n",
    "height_entry = tk.Entry(root)\n",
    "height_entry.grid(row=2, column=1, padx=10, pady=5)\n",
    "\n",
    "# Button to calculate BMI\n",
    "calculate_button = tk.Button(root, text=\"Calculate BMI\", command=calculate_bmi)\n",
    "calculate_button.grid(row=3, column=0, columnspan=2, pady=10)\n",
    "\n",
    "# Label to display the result\n",
    "result_label = tk.Label(root, text=\"\")\n",
    "result_label.grid(row=4, column=0, columnspan=2)\n",
    "\n",
    "# Run the application\n",
    "root.mainloop()\n",
    "\n",
    "\n",
    "\n",
    "\n"
   ]
  },
  {
   "cell_type": "code",
   "execution_count": null,
   "id": "68decced-ec7e-4401-a2cf-e975c25b59fe",
   "metadata": {},
   "outputs": [],
   "source": []
  },
  {
   "cell_type": "code",
   "execution_count": null,
   "id": "6336c220-b68f-4c51-ac6d-142be8202f8f",
   "metadata": {},
   "outputs": [],
   "source": []
  }
 ],
 "metadata": {
  "kernelspec": {
   "display_name": "Python 3 (ipykernel)",
   "language": "python",
   "name": "python3"
  },
  "language_info": {
   "codemirror_mode": {
    "name": "ipython",
    "version": 3
   },
   "file_extension": ".py",
   "mimetype": "text/x-python",
   "name": "python",
   "nbconvert_exporter": "python",
   "pygments_lexer": "ipython3",
   "version": "3.12.4"
  }
 },
 "nbformat": 4,
 "nbformat_minor": 5
}
